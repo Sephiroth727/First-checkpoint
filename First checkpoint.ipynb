{
 "cells": [
  {
   "cell_type": "code",
   "execution_count": 1,
   "metadata": {},
   "outputs": [
    {
     "name": "stdout",
     "output_type": "stream",
     "text": [
      "give me your first name amine\n",
      "give your second name ahmed\n",
      "ahmed amine\n"
     ]
    }
   ],
   "source": [
    "#Question 1:\n",
    "first_name=input(\"give me your first name \")\n",
    "last_name=input(\"give your second name \")\n",
    "print(last_name,first_name)"
   ]
  },
  {
   "cell_type": "code",
   "execution_count": 2,
   "metadata": {},
   "outputs": [
    {
     "name": "stdout",
     "output_type": "stream",
     "text": [
      "give a number: 5\n",
      "615\n"
     ]
    }
   ],
   "source": [
    "#Question 2:\n",
    "x=input(\"give a number: \")\n",
    "n=int(x)+int(x+x)+int(x+x+x)\n",
    "print(n)"
   ]
  },
  {
   "cell_type": "code",
   "execution_count": 3,
   "metadata": {},
   "outputs": [
    {
     "name": "stdout",
     "output_type": "stream",
     "text": [
      "give me a number: 5\n",
      "odd\n"
     ]
    }
   ],
   "source": [
    "#Question 3:\n",
    "n=int(input(\"give me a number: \"))\n",
    "if n % 2 == 0 :\n",
    "    print(\"even\")\n",
    "else:\n",
    "    print(\"odd\")"
   ]
  },
  {
   "cell_type": "code",
   "execution_count": 4,
   "metadata": {},
   "outputs": [
    {
     "name": "stdout",
     "output_type": "stream",
     "text": [
      "2002 2009 2016 2023 2037 2044 2051 2058 2072 2079 2086 2093 2107 2114 2121 2128 2142 2149 2156 2163 2177 2184 2191 2198 2212 2219 2226 2233 2247 2254 2261 2268 2282 2289 2296 2303 2317 2324 2331 2338 2352 2359 2366 2373 2387 2394 2401 2408 2422 2429 2436 2443 2457 2464 2471 2478 2492 2499 2506 2513 2527 2534 2541 2548 2562 2569 2576 2583 2597 2604 2611 2618 2632 2639 2646 2653 2667 2674 2681 2688 2702 2709 2716 2723 2737 2744 2751 2758 2772 2779 2786 2793 2807 2814 2821 2828 2842 2849 2856 2863 2877 2884 2891 2898 2912 2919 2926 2933 2947 2954 2961 2968 2982 2989 2996 3003 3017 3024 3031 3038 3052 3059 3066 3073 3087 3094 3101 3108 3122 3129 3136 3143 3157 3164 3171 3178 3192 3199 "
     ]
    }
   ],
   "source": [
    "#Question 4:\n",
    "for i in range(2000,3201):\n",
    "    if i % 7 == 0 and  i % 5 != 0 :\n",
    "        print(i , end=\" \")"
   ]
  },
  {
   "cell_type": "code",
   "execution_count": 5,
   "metadata": {},
   "outputs": [
    {
     "name": "stdout",
     "output_type": "stream",
     "text": [
      "give me a number: 5\n",
      "120\n"
     ]
    }
   ],
   "source": [
    "#Question 5:\n",
    "n=int(input(\"give me a number: \"))\n",
    "f=1\n",
    "for i in range(1,n+1):\n",
    "    f=f*(i)\n",
    "print(f)"
   ]
  },
  {
   "cell_type": "code",
   "execution_count": 7,
   "metadata": {},
   "outputs": [
    {
     "name": "stdout",
     "output_type": "stream",
     "text": [
      "give me a word: house\n",
      " hue\n"
     ]
    }
   ],
   "source": [
    "#Question 6:\n",
    "string=input(\"give me a word: \")\n",
    "f=\" \"\n",
    "for i in range(len(string)):\n",
    "    if i % 2 == 0 :\n",
    "        f=f+string[i]\n",
    "print(f)"
   ]
  },
  {
   "cell_type": "code",
   "execution_count": 8,
   "metadata": {},
   "outputs": [
    {
     "name": "stdout",
     "output_type": "stream",
     "text": [
      "give your price:465\n",
      "you're price after discount is :  325.5\n"
     ]
    }
   ],
   "source": [
    "#Question 7:\n",
    "price=int(input(\"give your price:\"))\n",
    "if price >= 500:\n",
    "    price=price-(price*(50/100))\n",
    "    print(\"you're price after discount is : \" , price )\n",
    "elif 200 <=price< 500 :\n",
    "    price= price - (price*(30/100))\n",
    "    print(\"you're price after discount is : \" , price )\n",
    "elif price < 200 :\n",
    "    price= price - (price*(20/100))\n",
    "    print(\"you're price after discount is : \" , price )"
   ]
  },
  {
   "cell_type": "code",
   "execution_count": null,
   "metadata": {},
   "outputs": [],
   "source": []
  }
 ],
 "metadata": {
  "kernelspec": {
   "display_name": "Python 3",
   "language": "python",
   "name": "python3"
  },
  "language_info": {
   "codemirror_mode": {
    "name": "ipython",
    "version": 3
   },
   "file_extension": ".py",
   "mimetype": "text/x-python",
   "name": "python",
   "nbconvert_exporter": "python",
   "pygments_lexer": "ipython3",
   "version": "3.7.0"
  }
 },
 "nbformat": 4,
 "nbformat_minor": 2
}
